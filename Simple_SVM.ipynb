{
  "nbformat": 4,
  "nbformat_minor": 0,
  "metadata": {
    "colab": {
      "name": "Simple_SVM.ipynb",
      "provenance": [],
      "authorship_tag": "ABX9TyPyvZrG6EEM+fii0pxTitPH",
      "include_colab_link": true
    },
    "kernelspec": {
      "name": "python3",
      "display_name": "Python 3"
    }
  },
  "cells": [
    {
      "cell_type": "markdown",
      "metadata": {
        "id": "view-in-github",
        "colab_type": "text"
      },
      "source": [
        "<a href=\"https://colab.research.google.com/github/Clalloures/Machine-Learning/blob/master/Simple_SVM.ipynb\" target=\"_parent\"><img src=\"https://colab.research.google.com/assets/colab-badge.svg\" alt=\"Open In Colab\"/></a>"
      ]
    },
    {
      "cell_type": "markdown",
      "metadata": {
        "id": "pTas4kRI0905",
        "colab_type": "text"
      },
      "source": [
        "# SVM"
      ]
    },
    {
      "cell_type": "markdown",
      "metadata": {
        "id": "j5NmWcXD1AaK",
        "colab_type": "text"
      },
      "source": [
        "##  Bibliotecas\n",
        "Neste exemplo vamos utilizar:\n",
        "numpy \n",
        "sklearn\n",
        "matplotlib\n",
        "Tem um post no insta explicando cada uma delas\n"
      ]
    },
    {
      "cell_type": "code",
      "metadata": {
        "id": "vr5lF6ypxFXu",
        "colab_type": "code",
        "colab": {}
      },
      "source": [
        "from sklearn.datasets import make_blobs\n",
        "from sklearn.model_selection import train_test_split\n",
        "import numpy as np\n",
        "import matplotlib.pyplot as plt"
      ],
      "execution_count": null,
      "outputs": []
    },
    {
      "cell_type": "markdown",
      "metadata": {
        "id": "l52DNPD91N26",
        "colab_type": "text"
      },
      "source": [
        "## Gerando o Dataset\n",
        "Precisando de dados para gerar a classificação, para isso, vamos criar usando o Scikit (funçao make_blobs) para gerar um dataset linearmente separável\n",
        "\n",
        "Na parte inicial vamos colocar algumas informações necessárias para a criação do dataset. Quantidade de dados, entre outras informações.\n",
        "\n",
        "\n",
        "\n",
        "\n",
        "*   **random_state** : garante que várias inicializações não interfiram nos núemros aleatórios, podemos colocar qualquer dado aqui\n",
        "*   **centers** : centros dos blobs\n",
        "*   **cluster_std** : desvio padrão do cluster para criarmos a dispersão dos centros até a região limite de cada grupo\n",
        "*   **ftest** : fração da divisão de teste, ou seja, porcentagem de dados usada pára fins de teste\n",
        "*   **n_features** : número de classes que desejamos\n",
        "*   **n_samples** : número total de amostras desejadas\n",
        "\n"
      ]
    },
    {
      "cell_type": "markdown",
      "metadata": {
        "id": "-o_SLF6k3xVz",
        "colab_type": "text"
      },
      "source": [
        "Agora, geramos os dados e separamos eles em grupo de treino e grupo de teste"
      ]
    },
    {
      "cell_type": "markdown",
      "metadata": {
        "id": "bsgXXIjx34xJ",
        "colab_type": "text"
      },
      "source": [
        "Esta etapa é útil para não perdermos os valores presentes inicialmente dentro dos grupos de teste e treino"
      ]
    },
    {
      "cell_type": "markdown",
      "metadata": {
        "id": "50VzrfgF4IME",
        "colab_type": "text"
      },
      "source": [
        "Agora vamos visualizar os dados gerados e ver como estão distribuidos no espaço"
      ]
    },
    {
      "cell_type": "code",
      "metadata": {
        "id": "bMeqVmP90HTG",
        "colab_type": "code",
        "colab": {}
      },
      "source": [
        "random_state = 30\n",
        "centers = [(0,0), (8,8)]\n",
        "cluster_std = 1\n",
        "ftest = 0.30\n",
        "n_features = 2\n",
        "n_samples = 2000"
      ],
      "execution_count": null,
      "outputs": []
    },
    {
      "cell_type": "code",
      "metadata": {
        "id": "rIiL55aC0K1r",
        "colab_type": "code",
        "colab": {}
      },
      "source": [
        "inputs, targets = make_blobs(n_samples = n_samples, centers = centers, n_features = n_features, cluster_std = cluster_std)\n",
        "X_train, X_test, y_train, y_test = train_test_split(inputs, targets, test_size=ftest, random_state=blobs_random_seed)"
      ],
      "execution_count": null,
      "outputs": []
    },
    {
      "cell_type": "code",
      "metadata": {
        "id": "3IaNWz1Z0NcZ",
        "colab_type": "code",
        "colab": {}
      },
      "source": [
        "np.save('./datasave.npy', (X_train, X_test, y_train, y_test))\n",
        "X_train, X_test, y_train, y_test = np.load('./datasave.npy', allow_pickle=True)\n"
      ],
      "execution_count": null,
      "outputs": []
    },
    {
      "cell_type": "code",
      "metadata": {
        "id": "d6Oi_p4C0PGI",
        "colab_type": "code",
        "colab": {
          "base_uri": "https://localhost:8080/",
          "height": 295
        },
        "outputId": "81969d37-590c-40fc-88ff-b83c1f93360e"
      },
      "source": [
        "plt.scatter(X_train[:,0], X_train[:,1])\n",
        "plt.title('Dados Linearmente Separáveis')\n",
        "plt.xlabel('X')\n",
        "plt.ylabel('Y')\n",
        "plt.show()"
      ],
      "execution_count": null,
      "outputs": [
        {
          "output_type": "display_data",
          "data": {
            "image/png": "[encoded data removed]",
            "text/plain": [
              "<Figure size 432x288 with 1 Axes>"
            ]
          },
          "metadata": {
            "tags": [],
            "needs_background": "light"
          }
        }
      ]
    },
    {
      "cell_type": "markdown",
      "metadata": {
        "id": "Xd6b6OLe4XEh",
        "colab_type": "text"
      },
      "source": [
        "## Criação do SVM\n",
        "\n",
        "Para isso devemos escolher uma função do kernel. \n",
        "\n",
        "**Okay, mas o que é uma função do kernel?**\n",
        "Qualquer função matemática pode ser usada como uma função do kernel. Dentro do scikit-learn é possível escrever a função do kernel que deseja ou utilizar alguma das funções já presentes dentro da biblioteca. Sendo elas, por exemplo:\n",
        "\n",
        "1.   Linear: mapeia o mesmo em um espaço diferente\n",
        "2.   Polinomial\n",
        "3.   RBF ou Radial Basis Function\n",
        "\n",
        "\n"
      ]
    },
    {
      "cell_type": "code",
      "metadata": {
        "id": "xVRVPIih0VAp",
        "colab_type": "code",
        "colab": {}
      },
      "source": [
        "from sklearn import svm"
      ],
      "execution_count": null,
      "outputs": []
    },
    {
      "cell_type": "markdown",
      "metadata": {
        "id": "S8LGpubF5t4N",
        "colab_type": "text"
      },
      "source": [
        "Como pode ver, é bem simples criar o classificador. apenas chamamos svm e escolhemos seu kernel"
      ]
    },
    {
      "cell_type": "code",
      "metadata": {
        "id": "77-3DdDH0WeZ",
        "colab_type": "code",
        "colab": {}
      },
      "source": [
        "clf = svm.SVC(kernel='linear')"
      ],
      "execution_count": null,
      "outputs": []
    },
    {
      "cell_type": "markdown",
      "metadata": {
        "id": "nYYnrdJJ56n7",
        "colab_type": "text"
      },
      "source": [
        "Agora geramos um ajuste em nossos dados de treinamento ao nosso classificador"
      ]
    },
    {
      "cell_type": "code",
      "metadata": {
        "id": "WkNDksxS0p2Y",
        "colab_type": "code",
        "colab": {}
      },
      "source": [
        "clf = clf.fit(X_train, y_train)"
      ],
      "execution_count": null,
      "outputs": []
    },
    {
      "cell_type": "markdown",
      "metadata": {
        "id": "uHDQKS4h6B9l",
        "colab_type": "text"
      },
      "source": [
        "## Usando nosso SVM"
      ]
    },
    {
      "cell_type": "code",
      "metadata": {
        "id": "vYxH4y460Xqm",
        "colab_type": "code",
        "colab": {}
      },
      "source": [
        "predictions = clf.predict(X_test)"
      ],
      "execution_count": null,
      "outputs": []
    },
    {
      "cell_type": "markdown",
      "metadata": {
        "id": "RthK4Njl6G6S",
        "colab_type": "text"
      },
      "source": [
        "Após utilizar a função de predict, vamos conferir como nossos dados se sairam através da matriz de confusão. Ela nos ajuda a ver se nossos dados foram classificados de forma correta ou não.\n",
        "\n",
        "Por ela podemos ver : Verdadeiro Positivo, Verdadeiro Negativo, Falso Positivo, Falso Negativo"
      ]
    },
    {
      "cell_type": "code",
      "metadata": {
        "id": "Ossa9Xp20aZh",
        "colab_type": "code",
        "colab": {}
      },
      "source": [
        "from sklearn.metrics import plot_confusion_matrix"
      ],
      "execution_count": null,
      "outputs": []
    },
    {
      "cell_type": "code",
      "metadata": {
        "id": "20Trbbwb0cff",
        "colab_type": "code",
        "colab": {
          "base_uri": "https://localhost:8080/",
          "height": 295
        },
        "outputId": "5c567f76-f0b4-46fa-d159-14b03a35de29"
      },
      "source": [
        "predictions = clf.predict(X_test)\n",
        "\n",
        "matrix = plot_confusion_matrix(clf, X_test, y_test,\n",
        "                                 cmap=plt.cm.Blues,\n",
        "                                 normalize='true')\n",
        "plt.title('Matriz de Confusão')\n",
        "plt.show(matrix)\n",
        "plt.show()"
      ],
      "execution_count": null,
      "outputs": [
        {
          "output_type": "display_data",
          "data": {
            "image/png": "[encoded data removed]",
            "text/plain": [
              "<Figure size 432x288 with 2 Axes>"
            ]
          },
          "metadata": {
            "tags": [],
            "needs_background": "light"
          }
        }
      ]
    },
    {
      "cell_type": "markdown",
      "metadata": {
        "id": "tkuS1fR96lML",
        "colab_type": "text"
      },
      "source": [
        "## Localizando os vetores de suporte do modelo\n",
        "\n",
        "O limite de decisões é determinado pelos vetores de suporte. Estes vetores correspondem aos valores de cada grupo que se encontram mais próximos da linha de divisão. "
      ]
    },
    {
      "cell_type": "code",
      "metadata": {
        "id": "FJQQXrqI0ucs",
        "colab_type": "code",
        "colab": {
          "base_uri": "https://localhost:8080/",
          "height": 295
        },
        "outputId": "6925cbee-717c-447c-9604-af3c14090238"
      },
      "source": [
        "support_vectors = clf.support_vectors_\n",
        "plt.scatter(X_train[:,0], X_train[:,1])\n",
        "plt.scatter(support_vectors[:,0], support_vectors[:,1], color='yellow')\n",
        "plt.title('Objetos mais próximos da linha de divisão')\n",
        "plt.xlabel('X')\n",
        "plt.ylabel('Y')\n",
        "plt.show()"
      ],
      "execution_count": null,
      "outputs": [
        {
          "output_type": "display_data",
          "data": {
            "image/png": "[encoded data removed]",
            "text/plain": [
              "<Figure size 432x288 with 1 Axes>"
            ]
          },
          "metadata": {
            "tags": [],
            "needs_background": "light"
          }
        }
      ]
    },
    {
      "cell_type": "markdown",
      "metadata": {
        "id": "2dsgnlaz7hne",
        "colab_type": "text"
      },
      "source": [
        "## Visualizando cada grupo do teste"
      ]
    },
    {
      "cell_type": "code",
      "metadata": {
        "id": "9xkBdARL00ZJ",
        "colab_type": "code",
        "colab": {}
      },
      "source": [
        "from mlxtend.plotting import plot_decision_regions"
      ],
      "execution_count": null,
      "outputs": []
    },
    {
      "cell_type": "code",
      "metadata": {
        "id": "-tFGqh0p01zT",
        "colab_type": "code",
        "colab": {
          "base_uri": "https://localhost:8080/",
          "height": 321
        },
        "outputId": "ef9e783c-8047-45a7-82ad-f7be00bd929e"
      },
      "source": [
        "plot_decision_regions(X_test, y_test, clf=clf, legend=2)\n",
        "plt.show()"
      ],
      "execution_count": null,
      "outputs": [
        {
          "output_type": "stream",
          "text": [
            "/usr/local/lib/python3.6/dist-packages/mlxtend/plotting/decision_regions.py:244: MatplotlibDeprecationWarning: Passing unsupported keyword arguments to axis() will raise a TypeError in 3.3.\n",
            "  ax.axis(xmin=xx.min(), xmax=xx.max(), y_min=yy.min(), y_max=yy.max())\n"
          ],
          "name": "stderr"
        },
        {
          "output_type": "display_data",
          "data": {
            "image/png": "[encoded data removed]",
            "text/plain": [
              "<Figure size 432x288 with 1 Axes>"
            ]
          },
          "metadata": {
            "tags": [],
            "needs_background": "light"
          }
        }
      ]
    },
    {
      "cell_type": "markdown",
      "metadata": {
        "id": "bFAhxFhZ06_K",
        "colab_type": "text"
      },
      "source": [
        ""
      ]
    },
    {
      "cell_type": "code",
      "metadata": {
        "id": "_OI21JdlyXJm",
        "colab_type": "code",
        "colab": {}
      },
      "source": [
        "X = [10, 50, 40, 92, 15, 50]\n",
        "Y = [2,7,1.6,8,0.6,11]"
      ],
      "execution_count": null,
      "outputs": []
    },
    {
      "cell_type": "code",
      "metadata": {
        "id": "nA_LgC6kxfXA",
        "colab_type": "code",
        "colab": {
          "base_uri": "https://localhost:8080/",
          "height": 265
        },
        "outputId": "e9a4f1eb-ffcb-4084-a655-542915c0aa17"
      },
      "source": [
        "plt.scatter(X,Y)\n",
        "plt.show()"
      ],
      "execution_count": null,
      "outputs": [
        {
          "output_type": "display_data",
          "data": {
            "image/png": "[encoded data removed]",
            "text/plain": [
              "<Figure size 432x288 with 1 Axes>"
            ]
          },
          "metadata": {
            "tags": [],
            "needs_background": "light"
          }
        }
      ]
    },
    {
      "cell_type": "code",
      "metadata": {
        "id": "3U2ANFddxO7m",
        "colab_type": "code",
        "colab": {}
      },
      "source": [
        "grupo1 = np.array([[10,2], [50,7], [40, 1.6], [92,8], [15,0.6], [50,11]])\n",
        "grupo2 = [1,0,1,1,0,1]"
      ],
      "execution_count": null,
      "outputs": []
    },
    {
      "cell_type": "code",
      "metadata": {
        "id": "OKtTEtk4xt6B",
        "colab_type": "code",
        "colab": {}
      },
      "source": [
        "clf = svm.SVC(kernel='linear', C = 1.0)"
      ],
      "execution_count": null,
      "outputs": []
    },
    {
      "cell_type": "code",
      "metadata": {
        "id": "CyoZFRnGyjS0",
        "colab_type": "code",
        "colab": {
          "base_uri": "https://localhost:8080/",
          "height": 85
        },
        "outputId": "5558fc85-51b8-4ebf-83ec-a812547abc9d"
      },
      "source": [
        "clf.fit(grupo1, grupo2)"
      ],
      "execution_count": null,
      "outputs": [
        {
          "output_type": "execute_result",
          "data": {
            "text/plain": [
              "SVC(C=1.0, break_ties=False, cache_size=200, class_weight=None, coef0=0.0,\n",
              "    decision_function_shape='ovr', degree=3, gamma='scale', kernel='linear',\n",
              "    max_iter=-1, probability=False, random_state=None, shrinking=True,\n",
              "    tol=0.001, verbose=False)"
            ]
          },
          "metadata": {
            "tags": []
          },
          "execution_count": 33
        }
      ]
    },
    {
      "cell_type": "code",
      "metadata": {
        "id": "Kp2WUe_FzHg1",
        "colab_type": "code",
        "colab": {
          "base_uri": "https://localhost:8080/",
          "height": 392
        },
        "outputId": "4bceb0b8-6844-40dd-cd86-c5b749eccd3f"
      },
      "source": [
        "clf.predict([15,7])\n"
      ],
      "execution_count": null,
      "outputs": [
        {
          "output_type": "error",
          "ename": "ValueError",
          "evalue": "ignored",
          "traceback": [
            "\u001b[0;31m---------------------------------------------------------------------------\u001b[0m",
            "\u001b[0;31mValueError\u001b[0m                                Traceback (most recent call last)",
            "\u001b[0;32m<ipython-input-35-6a4926b67afc>\u001b[0m in \u001b[0;36m<module>\u001b[0;34m()\u001b[0m\n\u001b[0;32m----> 1\u001b[0;31m \u001b[0mclf\u001b[0m\u001b[0;34m.\u001b[0m\u001b[0mpredict\u001b[0m\u001b[0;34m(\u001b[0m\u001b[0;34m[\u001b[0m\u001b[0;36m15\u001b[0m\u001b[0;34m,\u001b[0m\u001b[0;36m7\u001b[0m\u001b[0;34m]\u001b[0m\u001b[0;34m)\u001b[0m\u001b[0;34m\u001b[0m\u001b[0;34m\u001b[0m\u001b[0m\n\u001b[0m",
            "\u001b[0;32m/usr/local/lib/python3.6/dist-packages/sklearn/svm/_base.py\u001b[0m in \u001b[0;36mpredict\u001b[0;34m(self, X)\u001b[0m\n\u001b[1;32m    592\u001b[0m             \u001b[0my\u001b[0m \u001b[0;34m=\u001b[0m \u001b[0mnp\u001b[0m\u001b[0;34m.\u001b[0m\u001b[0margmax\u001b[0m\u001b[0;34m(\u001b[0m\u001b[0mself\u001b[0m\u001b[0;34m.\u001b[0m\u001b[0mdecision_function\u001b[0m\u001b[0;34m(\u001b[0m\u001b[0mX\u001b[0m\u001b[0;34m)\u001b[0m\u001b[0;34m,\u001b[0m \u001b[0maxis\u001b[0m\u001b[0;34m=\u001b[0m\u001b[0;36m1\u001b[0m\u001b[0;34m)\u001b[0m\u001b[0;34m\u001b[0m\u001b[0;34m\u001b[0m\u001b[0m\n\u001b[1;32m    593\u001b[0m         \u001b[0;32melse\u001b[0m\u001b[0;34m:\u001b[0m\u001b[0;34m\u001b[0m\u001b[0;34m\u001b[0m\u001b[0m\n\u001b[0;32m--> 594\u001b[0;31m             \u001b[0my\u001b[0m \u001b[0;34m=\u001b[0m \u001b[0msuper\u001b[0m\u001b[0;34m(\u001b[0m\u001b[0;34m)\u001b[0m\u001b[0;34m.\u001b[0m\u001b[0mpredict\u001b[0m\u001b[0;34m(\u001b[0m\u001b[0mX\u001b[0m\u001b[0;34m)\u001b[0m\u001b[0;34m\u001b[0m\u001b[0;34m\u001b[0m\u001b[0m\n\u001b[0m\u001b[1;32m    595\u001b[0m         \u001b[0;32mreturn\u001b[0m \u001b[0mself\u001b[0m\u001b[0;34m.\u001b[0m\u001b[0mclasses_\u001b[0m\u001b[0;34m.\u001b[0m\u001b[0mtake\u001b[0m\u001b[0;34m(\u001b[0m\u001b[0mnp\u001b[0m\u001b[0;34m.\u001b[0m\u001b[0masarray\u001b[0m\u001b[0;34m(\u001b[0m\u001b[0my\u001b[0m\u001b[0;34m,\u001b[0m \u001b[0mdtype\u001b[0m\u001b[0;34m=\u001b[0m\u001b[0mnp\u001b[0m\u001b[0;34m.\u001b[0m\u001b[0mintp\u001b[0m\u001b[0;34m)\u001b[0m\u001b[0;34m)\u001b[0m\u001b[0;34m\u001b[0m\u001b[0;34m\u001b[0m\u001b[0m\n\u001b[1;32m    596\u001b[0m \u001b[0;34m\u001b[0m\u001b[0m\n",
            "\u001b[0;32m/usr/local/lib/python3.6/dist-packages/sklearn/svm/_base.py\u001b[0m in \u001b[0;36mpredict\u001b[0;34m(self, X)\u001b[0m\n\u001b[1;32m    313\u001b[0m         \u001b[0my_pred\u001b[0m \u001b[0;34m:\u001b[0m \u001b[0marray\u001b[0m\u001b[0;34m,\u001b[0m \u001b[0mshape\u001b[0m \u001b[0;34m(\u001b[0m\u001b[0mn_samples\u001b[0m\u001b[0;34m,\u001b[0m\u001b[0;34m)\u001b[0m\u001b[0;34m\u001b[0m\u001b[0;34m\u001b[0m\u001b[0m\n\u001b[1;32m    314\u001b[0m         \"\"\"\n\u001b[0;32m--> 315\u001b[0;31m         \u001b[0mX\u001b[0m \u001b[0;34m=\u001b[0m \u001b[0mself\u001b[0m\u001b[0;34m.\u001b[0m\u001b[0m_validate_for_predict\u001b[0m\u001b[0;34m(\u001b[0m\u001b[0mX\u001b[0m\u001b[0;34m)\u001b[0m\u001b[0;34m\u001b[0m\u001b[0;34m\u001b[0m\u001b[0m\n\u001b[0m\u001b[1;32m    316\u001b[0m         \u001b[0mpredict\u001b[0m \u001b[0;34m=\u001b[0m \u001b[0mself\u001b[0m\u001b[0;34m.\u001b[0m\u001b[0m_sparse_predict\u001b[0m \u001b[0;32mif\u001b[0m \u001b[0mself\u001b[0m\u001b[0;34m.\u001b[0m\u001b[0m_sparse\u001b[0m \u001b[0;32melse\u001b[0m \u001b[0mself\u001b[0m\u001b[0;34m.\u001b[0m\u001b[0m_dense_predict\u001b[0m\u001b[0;34m\u001b[0m\u001b[0;34m\u001b[0m\u001b[0m\n\u001b[1;32m    317\u001b[0m         \u001b[0;32mreturn\u001b[0m \u001b[0mpredict\u001b[0m\u001b[0;34m(\u001b[0m\u001b[0mX\u001b[0m\u001b[0;34m)\u001b[0m\u001b[0;34m\u001b[0m\u001b[0;34m\u001b[0m\u001b[0m\n",
            "\u001b[0;32m/usr/local/lib/python3.6/dist-packages/sklearn/svm/_base.py\u001b[0m in \u001b[0;36m_validate_for_predict\u001b[0;34m(self, X)\u001b[0m\n\u001b[1;32m    445\u001b[0m \u001b[0;34m\u001b[0m\u001b[0m\n\u001b[1;32m    446\u001b[0m         X = check_array(X, accept_sparse='csr', dtype=np.float64, order=\"C\",\n\u001b[0;32m--> 447\u001b[0;31m                         accept_large_sparse=False)\n\u001b[0m\u001b[1;32m    448\u001b[0m         \u001b[0;32mif\u001b[0m \u001b[0mself\u001b[0m\u001b[0;34m.\u001b[0m\u001b[0m_sparse\u001b[0m \u001b[0;32mand\u001b[0m \u001b[0;32mnot\u001b[0m \u001b[0msp\u001b[0m\u001b[0;34m.\u001b[0m\u001b[0misspmatrix\u001b[0m\u001b[0;34m(\u001b[0m\u001b[0mX\u001b[0m\u001b[0;34m)\u001b[0m\u001b[0;34m:\u001b[0m\u001b[0;34m\u001b[0m\u001b[0;34m\u001b[0m\u001b[0m\n\u001b[1;32m    449\u001b[0m             \u001b[0mX\u001b[0m \u001b[0;34m=\u001b[0m \u001b[0msp\u001b[0m\u001b[0;34m.\u001b[0m\u001b[0mcsr_matrix\u001b[0m\u001b[0;34m(\u001b[0m\u001b[0mX\u001b[0m\u001b[0;34m)\u001b[0m\u001b[0;34m\u001b[0m\u001b[0;34m\u001b[0m\u001b[0m\n",
            "\u001b[0;32m/usr/local/lib/python3.6/dist-packages/sklearn/utils/validation.py\u001b[0m in \u001b[0;36mcheck_array\u001b[0;34m(array, accept_sparse, accept_large_sparse, dtype, order, copy, force_all_finite, ensure_2d, allow_nd, ensure_min_samples, ensure_min_features, warn_on_dtype, estimator)\u001b[0m\n\u001b[1;32m    554\u001b[0m                     \u001b[0;34m\"Reshape your data either using array.reshape(-1, 1) if \"\u001b[0m\u001b[0;34m\u001b[0m\u001b[0;34m\u001b[0m\u001b[0m\n\u001b[1;32m    555\u001b[0m                     \u001b[0;34m\"your data has a single feature or array.reshape(1, -1) \"\u001b[0m\u001b[0;34m\u001b[0m\u001b[0;34m\u001b[0m\u001b[0m\n\u001b[0;32m--> 556\u001b[0;31m                     \"if it contains a single sample.\".format(array))\n\u001b[0m\u001b[1;32m    557\u001b[0m \u001b[0;34m\u001b[0m\u001b[0m\n\u001b[1;32m    558\u001b[0m         \u001b[0;31m# in the future np.flexible dtypes will be handled like object dtypes\u001b[0m\u001b[0;34m\u001b[0m\u001b[0;34m\u001b[0m\u001b[0;34m\u001b[0m\u001b[0m\n",
            "\u001b[0;31mValueError\u001b[0m: Expected 2D array, got 1D array instead:\narray=[15.  7.].\nReshape your data either using array.reshape(-1, 1) if your data has a single feature or array.reshape(1, -1) if it contains a single sample."
          ]
        }
      ]
    }
  ]
}