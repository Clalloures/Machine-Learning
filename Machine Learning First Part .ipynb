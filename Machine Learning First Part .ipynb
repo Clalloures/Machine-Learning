{
 "cells": [
  {
   "cell_type": "markdown",
   "metadata": {},
   "source": [
    "# Machine Learning - First Part"
   ]
  },
  {
   "cell_type": "markdown",
   "metadata": {},
   "source": [
    "## What is Machine Learning?"
   ]
  },
  {
   "cell_type": "markdown",
   "metadata": {},
   "source": [
    "_**Machine Learning**_ is a subset of AI that uses algorithms to learn from and make predictions about data without being explicitly programmed. "
   ]
  },
  {
   "cell_type": "markdown",
   "metadata": {},
   "source": [
    "_**Artificial Infelligence**_ : Any techninque that enables computers to mirror human intelligence, using logic, if-then roles, decision trees, and machine learning (including deep learning)"
   ]
  },
  {
   "cell_type": "markdown",
   "metadata": {},
   "source": [
    "We can say that Machine Learning is an idea to learn from examples and experience, without being explicitly programmed. Instead of writing code, you feed data to the generic algorithm, and it builds logic based on the data given. "
   ]
  },
  {
   "cell_type": "markdown",
   "metadata": {},
   "source": [
    "**Example using Classification Algorithm** : It can put data into different groups. The algorithm used to classify emails into span and not-span could also be used to detect handwritten alphabets."
   ]
  },
  {
   "cell_type": "markdown",
   "metadata": {},
   "source": [
    "Using:\n",
    "   - E = the experience\n",
    "   - T = the task\n",
    "   - P = the probability\n",
    "   \n",
    "We can say that:"
   ]
  },
  {
   "cell_type": "markdown",
   "metadata": {},
   "source": [
    "> A computer program is said machine to learn from experience E with some class of tasks T and performance measure P if its performance at tasks in T, as measured by P, improves with experience E "
   ]
  },
  {
   "cell_type": "markdown",
   "metadata": {},
   "source": [
    "## Some Examples"
   ]
  },
  {
   "cell_type": "markdown",
   "metadata": {},
   "source": [
    "**Face detection** : Identify faces in images<br>\n",
    "**Email filtering** : Classify emails into spam and not-spam<br>\n",
    "**Medical diagnosis** : Diagnose a patient as a sufferer or not-sufferer of some disease<br>\n",
    "**Weather prediction** : Predict, for instance, whether or not it will rain tomorrow<br>"
   ]
  },
  {
   "cell_type": "markdown",
   "metadata": {},
   "source": [
    "## Kinds of Machine Learning"
   ]
  },
  {
   "cell_type": "markdown",
   "metadata": {},
   "source": [
    "1. Supervised Learning\n",
    "2. Unsupervised Learning\n",
    "3. Reinforcement Learning\n"
   ]
  },
  {
   "attachments": {
    "image.png": {
     "image/png": "[encoded data removed]"
    }
   },
   "cell_type": "markdown",
   "metadata": {},
   "source": [
    "![image.png](attachment:image.png)"
   ]
  },
  {
   "cell_type": "markdown",
   "metadata": {},
   "source": [
    "## Supervised Learning"
   ]
  },
  {
   "cell_type": "markdown",
   "metadata": {},
   "source": [
    "In supervised learning, the system tries to learn from the previous example that are give. "
   ]
  },
  {
   "cell_type": "markdown",
   "metadata": {},
   "source": [
    "> **Supervised learning** is where you have both input variables (x) and output variables (Y) and can use an algorithm to derive thee mapping function from the input to the output.<br> The Mapping function is expressed as Y = f(X)"
   ]
  },
  {
   "cell_type": "markdown",
   "metadata": {},
   "source": [
    "1. Imagens of handwritten numbers:\n",
    "    \n",
    "    Output: \"1\", \"2\", \"3\", \"4\", etc"
   ]
  },
  {
   "cell_type": "markdown",
   "metadata": {},
   "source": [
    "2. Emails:\n",
    "    \n",
    "    Output: \"spam\", \"not spam\""
   ]
  },
  {
   "cell_type": "markdown",
   "metadata": {},
   "source": [
    "Also, the supervised learning problems can be divided into two parts: **classificatin** and **regression**."
   ]
  },
  {
   "cell_type": "markdown",
   "metadata": {},
   "source": [
    "#### Classification"
   ]
  },
  {
   "cell_type": "markdown",
   "metadata": {},
   "source": [
    "Is when the output variables is a category or a group. <br>\n",
    "Example: \n",
    "   - \"spam\" or \"not spam\"\n",
    "   - Binary labels (Yes/No or 0/1)\n",
    "   - Different brands of a product (A, B, C)\n",
    "   - The weather on a given day (rainy, sunny, overcast)"
   ]
  },
  {
   "cell_type": "markdown",
   "metadata": {},
   "source": [
    "#### Regression"
   ]
  },
  {
   "cell_type": "markdown",
   "metadata": {},
   "source": [
    "Is when the output variabçe is a real value.<br>\n",
    "Example:\n",
    "   - Income in dollars\n",
    "   - Weight in pounds\n",
    "   - Distance in miles"
   ]
  },
  {
   "cell_type": "markdown",
   "metadata": {},
   "source": [
    "In both cases, the features (x) are different variables taht we assume are related to the label in some way. <br>\n",
    "For **regression**"
   ]
  },
  {
   "cell_type": "markdown",
   "metadata": {},
   "source": [
    "## Unsupervised Learning"
   ]
  },
  {
   "cell_type": "markdown",
   "metadata": {},
   "source": [
    "The algorithms are left to themselves to discover interesting structures in data. Unlike supervised learning, there are no given correct answers and the machine itself finds the answers."
   ]
  },
  {
   "cell_type": "markdown",
   "metadata": {},
   "source": [
    "> **Unsupervised Learning** is when you only have input data (x) and no corresponding output variables."
   ]
  },
  {
   "cell_type": "markdown",
   "metadata": {},
   "source": [
    "Also, the unsupervised learning problems can be divided into **association** and **clustering** problems."
   ]
  },
  {
   "cell_type": "markdown",
   "metadata": {},
   "source": [
    "#### Association"
   ]
  },
  {
   "cell_type": "markdown",
   "metadata": {},
   "source": [
    "An **_association role learning_** is where you want to discover roles that describe large portions of your data. <br>\n",
    "Example: _\"People that like the movie X also tend to like the movie Y\"_"
   ]
  },
  {
   "cell_type": "markdown",
   "metadata": {},
   "source": [
    "#### Clustering"
   ]
  },
  {
   "cell_type": "markdown",
   "metadata": {},
   "source": [
    "A clustering problem is where you want to discover the inherent grouping in the data. <br>\n",
    "Example: grouping customers by purchasing behaviour."
   ]
  },
  {
   "cell_type": "markdown",
   "metadata": {},
   "source": [
    "### Reinforcement Learning"
   ]
  },
  {
   "cell_type": "markdown",
   "metadata": {},
   "source": [
    "A computer programing will interect with a dynamic environment in which it must perform a particular goal. The program is provided feedback in terms of rewards and punishments as it navigates its problem space. Using this algorithm, the machine is trained to make specific decisions. "
   ]
  },
  {
   "cell_type": "markdown",
   "metadata": {},
   "source": [
    "> The machine is exposed to an environment where it continuously trains itself using trial and error method."
   ]
  }
 ],
 "metadata": {
  "kernelspec": {
   "display_name": "Python 3",
   "language": "python",
   "name": "python3"
  },
  "language_info": {
   "codemirror_mode": {
    "name": "ipython",
    "version": 3
   },
   "file_extension": ".py",
   "mimetype": "text/x-python",
   "name": "python",
   "nbconvert_exporter": "python",
   "pygments_lexer": "ipython3",
   "version": "3.7.1"
  }
 },
 "nbformat": 4,
 "nbformat_minor": 2
}
