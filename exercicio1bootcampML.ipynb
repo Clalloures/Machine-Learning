{
  "nbformat": 4,
  "nbformat_minor": 0,
  "metadata": {
    "colab": {
      "name": "aula_1_FAM.ipynb",
      "provenance": [],
      "collapsed_sections": [],
      "include_colab_link": true
    },
    "kernelspec": {
      "name": "python3",
      "display_name": "Python 3"
    }
  },
  "cells": [
    {
      "cell_type": "markdown",
      "metadata": {
        "id": "view-in-github",
        "colab_type": "text"
      },
      "source": [
        "<a href=\"https://colab.research.google.com/github/Clalloures/Machine-Learning/blob/master/exercicio1bootcampML.ipynb\" target=\"_parent\"><img src=\"https://colab.research.google.com/assets/colab-badge.svg\" alt=\"Open In Colab\"/></a>"
      ]
    },
    {
      "cell_type": "code",
      "metadata": {
        "id": "Mfd1Q8Zlgpx2",
        "colab_type": "code",
        "colab": {}
      },
      "source": [
        "#Este programa é utilizado para o desenvolvimento do trabalho prático da disciplina FAM do bootcamp de MLE"
      ],
      "execution_count": null,
      "outputs": []
    },
    {
      "cell_type": "code",
      "metadata": {
        "id": "XkAa6kElhAz9",
        "colab_type": "code",
        "colab": {
          "base_uri": "https://localhost:8080/",
          "height": 71
        },
        "outputId": "a166a065-19d9-4279-da2f-1d875cf5139a"
      },
      "source": [
        "#importando as bibliotecas\n",
        "import pandas as pd #biblioteca utilizada para o tratamento de dados via dataframes \n",
        "import numpy as np #biblioteca utilizada para o tratamento de valores numéricos (vetores e matrizes)\n",
        "import matplotlib.pyplot as plt #biblioteca utilizada para construir os gráficos\n",
        "import seaborn as sn #biblioteca utilizada para os plots mais bonitos\n",
        "from sklearn.model_selection import train_test_split #biblioteca para a divisão do dataset entre treinamento e teste"
      ],
      "execution_count": 1,
      "outputs": [
        {
          "output_type": "stream",
          "text": [
            "/usr/local/lib/python3.6/dist-packages/statsmodels/tools/_testing.py:19: FutureWarning: pandas.util.testing is deprecated. Use the functions in the public API at pandas.testing instead.\n",
            "  import pandas.util.testing as tm\n"
          ],
          "name": "stderr"
        }
      ]
    },
    {
      "cell_type": "code",
      "metadata": {
        "id": "F5QoWSBvlFph",
        "colab_type": "code",
        "colab": {
          "resources": {
            "http://localhost:8080/nbextensions/google.colab/files.js": {
              "data": "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",
              "ok": true,
              "headers": [
                [
                  "content-type",
                  "application/javascript"
                ]
              ],
              "status": 200,
              "status_text": ""
            }
          },
          "base_uri": "https://localhost:8080/",
          "height": 72
        },
        "outputId": "7072b341-5e1b-4221-d589-463a21b37001"
      },
      "source": [
        "from google.colab import files  #biblioteca utilizada para carregar os dados para o google colab\n",
        "uploaded = files.upload()"
      ],
      "execution_count": 2,
      "outputs": [
        {
          "output_type": "display_data",
          "data": {
            "text/html": [
              "\n",
              "     <input type=\"file\" id=\"files-784037ec-6844-4f2c-90bd-d7f52242838e\" name=\"files[]\" multiple disabled\n",
              "        style=\"border:none\" />\n",
              "     <output id=\"result-784037ec-6844-4f2c-90bd-d7f52242838e\">\n",
              "      Upload widget is only available when the cell has been executed in the\n",
              "      current browser session. Please rerun this cell to enable.\n",
              "      </output>\n",
              "      <script src=\"/nbextensions/google.colab/files.js\"></script> "
            ],
            "text/plain": [
              "<IPython.core.display.HTML object>"
            ]
          },
          "metadata": {
            "tags": []
          }
        },
        {
          "output_type": "stream",
          "text": [
            "Saving data.csv to data.csv\n"
          ],
          "name": "stdout"
        }
      ]
    },
    {
      "cell_type": "code",
      "metadata": {
        "id": "c3aot9E-li4L",
        "colab_type": "code",
        "colab": {}
      },
      "source": [
        "#realizando a leitura do arquivo (dataset)\n",
        "nome_do_arquivo=\"data.csv\"\n",
        "dataframe_envio_portos= pd.read_csv(nome_do_arquivo)"
      ],
      "execution_count": 3,
      "outputs": []
    },
    {
      "cell_type": "code",
      "metadata": {
        "id": "bKF37jCWl5SG",
        "colab_type": "code",
        "colab": {
          "base_uri": "https://localhost:8080/",
          "height": 224
        },
        "outputId": "83f1a1ff-a5be-4713-cdc5-77a8e7ddda81"
      },
      "source": [
        "#apresentando as 5 primeiras linhas do dataset\n",
        "dataframe_envio_portos.head()"
      ],
      "execution_count": 4,
      "outputs": [
        {
          "output_type": "execute_result",
          "data": {
            "text/html": [
              "<div>\n",
              "<style scoped>\n",
              "    .dataframe tbody tr th:only-of-type {\n",
              "        vertical-align: middle;\n",
              "    }\n",
              "\n",
              "    .dataframe tbody tr th {\n",
              "        vertical-align: top;\n",
              "    }\n",
              "\n",
              "    .dataframe thead th {\n",
              "        text-align: right;\n",
              "    }\n",
              "</style>\n",
              "<table border=\"1\" class=\"dataframe\">\n",
              "  <thead>\n",
              "    <tr style=\"text-align: right;\">\n",
              "      <th></th>\n",
              "      <th>valid_import</th>\n",
              "      <th>item</th>\n",
              "      <th>importer_id</th>\n",
              "      <th>exporter_id</th>\n",
              "      <th>country_of_origin</th>\n",
              "      <th>declared_quantity</th>\n",
              "      <th>declared_cost</th>\n",
              "      <th>mode_of_transport</th>\n",
              "      <th>route</th>\n",
              "      <th>date_of_departure</th>\n",
              "      <th>date_of_arrival</th>\n",
              "      <th>declared_weight</th>\n",
              "      <th>actual_weight</th>\n",
              "      <th>days_in_transit</th>\n",
              "    </tr>\n",
              "  </thead>\n",
              "  <tbody>\n",
              "    <tr>\n",
              "      <th>0</th>\n",
              "      <td>True</td>\n",
              "      <td>cigar</td>\n",
              "      <td>111</td>\n",
              "      <td>222</td>\n",
              "      <td>India</td>\n",
              "      <td>129</td>\n",
              "      <td>3784.402551</td>\n",
              "      <td>sea</td>\n",
              "      <td>asia</td>\n",
              "      <td>04/25/2019</td>\n",
              "      <td>05/13/2019</td>\n",
              "      <td>1608.605135</td>\n",
              "      <td>1637.661221</td>\n",
              "      <td>18.232857</td>\n",
              "    </tr>\n",
              "    <tr>\n",
              "      <th>1</th>\n",
              "      <td>True</td>\n",
              "      <td>cigar</td>\n",
              "      <td>111</td>\n",
              "      <td>222</td>\n",
              "      <td>India</td>\n",
              "      <td>104</td>\n",
              "      <td>3081.350806</td>\n",
              "      <td>sea</td>\n",
              "      <td>america</td>\n",
              "      <td>04/22/2019</td>\n",
              "      <td>05/24/2019</td>\n",
              "      <td>831.719301</td>\n",
              "      <td>848.273419</td>\n",
              "      <td>32.436029</td>\n",
              "    </tr>\n",
              "    <tr>\n",
              "      <th>2</th>\n",
              "      <td>True</td>\n",
              "      <td>cigar</td>\n",
              "      <td>111</td>\n",
              "      <td>222</td>\n",
              "      <td>India</td>\n",
              "      <td>130</td>\n",
              "      <td>4414.125741</td>\n",
              "      <td>sea</td>\n",
              "      <td>europe</td>\n",
              "      <td>04/29/2019</td>\n",
              "      <td>05/16/2019</td>\n",
              "      <td>1527.704165</td>\n",
              "      <td>1582.063911</td>\n",
              "      <td>16.996206</td>\n",
              "    </tr>\n",
              "    <tr>\n",
              "      <th>3</th>\n",
              "      <td>True</td>\n",
              "      <td>cigar</td>\n",
              "      <td>111</td>\n",
              "      <td>222</td>\n",
              "      <td>India</td>\n",
              "      <td>143</td>\n",
              "      <td>2533.535991</td>\n",
              "      <td>sea</td>\n",
              "      <td>panama</td>\n",
              "      <td>05/05/2019</td>\n",
              "      <td>05/25/2019</td>\n",
              "      <td>1138.680563</td>\n",
              "      <td>1179.993817</td>\n",
              "      <td>19.965886</td>\n",
              "    </tr>\n",
              "    <tr>\n",
              "      <th>4</th>\n",
              "      <td>True</td>\n",
              "      <td>cigar</td>\n",
              "      <td>111</td>\n",
              "      <td>222</td>\n",
              "      <td>China</td>\n",
              "      <td>141</td>\n",
              "      <td>4396.397887</td>\n",
              "      <td>sea</td>\n",
              "      <td>asia</td>\n",
              "      <td>05/14/2019</td>\n",
              "      <td>06/05/2019</td>\n",
              "      <td>761.744581</td>\n",
              "      <td>781.735080</td>\n",
              "      <td>22.160034</td>\n",
              "    </tr>\n",
              "  </tbody>\n",
              "</table>\n",
              "</div>"
            ],
            "text/plain": [
              "   valid_import   item  ...  actual_weight  days_in_transit\n",
              "0          True  cigar  ...    1637.661221        18.232857\n",
              "1          True  cigar  ...     848.273419        32.436029\n",
              "2          True  cigar  ...    1582.063911        16.996206\n",
              "3          True  cigar  ...    1179.993817        19.965886\n",
              "4          True  cigar  ...     781.735080        22.160034\n",
              "\n",
              "[5 rows x 14 columns]"
            ]
          },
          "metadata": {
            "tags": []
          },
          "execution_count": 4
        }
      ]
    },
    {
      "cell_type": "code",
      "metadata": {
        "id": "OL2cLcK_mPBO",
        "colab_type": "code",
        "colab": {
          "base_uri": "https://localhost:8080/",
          "height": 374
        },
        "outputId": "8e983e76-78c2-438f-812d-d0fc534c8555"
      },
      "source": [
        "dataframe_envio_portos.info() #verificando os tipos de variáveis e se existem ou não valores nulos"
      ],
      "execution_count": 5,
      "outputs": [
        {
          "output_type": "stream",
          "text": [
            "<class 'pandas.core.frame.DataFrame'>\n",
            "RangeIndex: 120 entries, 0 to 119\n",
            "Data columns (total 14 columns):\n",
            " #   Column             Non-Null Count  Dtype  \n",
            "---  ------             --------------  -----  \n",
            " 0   valid_import       120 non-null    bool   \n",
            " 1   item               120 non-null    object \n",
            " 2   importer_id        120 non-null    int64  \n",
            " 3   exporter_id        120 non-null    int64  \n",
            " 4   country_of_origin  120 non-null    object \n",
            " 5   declared_quantity  120 non-null    int64  \n",
            " 6   declared_cost      120 non-null    float64\n",
            " 7   mode_of_transport  120 non-null    object \n",
            " 8   route              120 non-null    object \n",
            " 9   date_of_departure  120 non-null    object \n",
            " 10  date_of_arrival    120 non-null    object \n",
            " 11  declared_weight    120 non-null    float64\n",
            " 12  actual_weight      120 non-null    float64\n",
            " 13  days_in_transit    120 non-null    float64\n",
            "dtypes: bool(1), float64(4), int64(3), object(6)\n",
            "memory usage: 12.4+ KB\n"
          ],
          "name": "stdout"
        }
      ]
    },
    {
      "cell_type": "code",
      "metadata": {
        "id": "DQA0wD8qvaza",
        "colab_type": "code",
        "colab": {
          "base_uri": "https://localhost:8080/",
          "height": 272
        },
        "outputId": "a460a800-93af-418d-e650-4f0d40a70bc2"
      },
      "source": [
        "dataframe_envio_portos.isnull().sum()"
      ],
      "execution_count": 6,
      "outputs": [
        {
          "output_type": "execute_result",
          "data": {
            "text/plain": [
              "valid_import         0\n",
              "item                 0\n",
              "importer_id          0\n",
              "exporter_id          0\n",
              "country_of_origin    0\n",
              "declared_quantity    0\n",
              "declared_cost        0\n",
              "mode_of_transport    0\n",
              "route                0\n",
              "date_of_departure    0\n",
              "date_of_arrival      0\n",
              "declared_weight      0\n",
              "actual_weight        0\n",
              "days_in_transit      0\n",
              "dtype: int64"
            ]
          },
          "metadata": {
            "tags": []
          },
          "execution_count": 6
        }
      ]
    },
    {
      "cell_type": "markdown",
      "metadata": {
        "id": "6H6KdP5EomAM",
        "colab_type": "text"
      },
      "source": [
        "**Existem Colunas Com Valores Nulos?**"
      ]
    },
    {
      "cell_type": "code",
      "metadata": {
        "id": "6E-2Hd7tyBXA",
        "colab_type": "code",
        "colab": {
          "base_uri": "https://localhost:8080/",
          "height": 34
        },
        "outputId": "7a359438-237e-4d17-9b2a-20bd66476f47"
      },
      "source": [
        "dataframe_envio_portos.shape"
      ],
      "execution_count": 7,
      "outputs": [
        {
          "output_type": "execute_result",
          "data": {
            "text/plain": [
              "(120, 14)"
            ]
          },
          "metadata": {
            "tags": []
          },
          "execution_count": 7
        }
      ]
    },
    {
      "cell_type": "markdown",
      "metadata": {
        "id": "mKtkghQso5X3",
        "colab_type": "text"
      },
      "source": [
        "**Quantas Instâncias e Características Existem no Dataset?**\n",
        "\n"
      ]
    },
    {
      "cell_type": "code",
      "metadata": {
        "id": "EK9PIlANo1NA",
        "colab_type": "code",
        "colab": {
          "base_uri": "https://localhost:8080/",
          "height": 317
        },
        "outputId": "02061100-7c1e-448a-aba4-b836b0873bd9"
      },
      "source": [
        "#analisando a \"estatística\" do dataset\n",
        "dataframe_envio_portos.describe()"
      ],
      "execution_count": 8,
      "outputs": [
        {
          "output_type": "execute_result",
          "data": {
            "text/html": [
              "<div>\n",
              "<style scoped>\n",
              "    .dataframe tbody tr th:only-of-type {\n",
              "        vertical-align: middle;\n",
              "    }\n",
              "\n",
              "    .dataframe tbody tr th {\n",
              "        vertical-align: top;\n",
              "    }\n",
              "\n",
              "    .dataframe thead th {\n",
              "        text-align: right;\n",
              "    }\n",
              "</style>\n",
              "<table border=\"1\" class=\"dataframe\">\n",
              "  <thead>\n",
              "    <tr style=\"text-align: right;\">\n",
              "      <th></th>\n",
              "      <th>importer_id</th>\n",
              "      <th>exporter_id</th>\n",
              "      <th>declared_quantity</th>\n",
              "      <th>declared_cost</th>\n",
              "      <th>declared_weight</th>\n",
              "      <th>actual_weight</th>\n",
              "      <th>days_in_transit</th>\n",
              "    </tr>\n",
              "  </thead>\n",
              "  <tbody>\n",
              "    <tr>\n",
              "      <th>count</th>\n",
              "      <td>120.0</td>\n",
              "      <td>120.0</td>\n",
              "      <td>120.000000</td>\n",
              "      <td>120.000000</td>\n",
              "      <td>120.000000</td>\n",
              "      <td>120.000000</td>\n",
              "      <td>120.000000</td>\n",
              "    </tr>\n",
              "    <tr>\n",
              "      <th>mean</th>\n",
              "      <td>111.0</td>\n",
              "      <td>222.0</td>\n",
              "      <td>127.458333</td>\n",
              "      <td>6743.649881</td>\n",
              "      <td>1264.702934</td>\n",
              "      <td>1306.429806</td>\n",
              "      <td>35.424705</td>\n",
              "    </tr>\n",
              "    <tr>\n",
              "      <th>std</th>\n",
              "      <td>0.0</td>\n",
              "      <td>0.0</td>\n",
              "      <td>14.641311</td>\n",
              "      <td>2991.797050</td>\n",
              "      <td>633.149971</td>\n",
              "      <td>656.911704</td>\n",
              "      <td>26.571591</td>\n",
              "    </tr>\n",
              "    <tr>\n",
              "      <th>min</th>\n",
              "      <td>111.0</td>\n",
              "      <td>222.0</td>\n",
              "      <td>100.000000</td>\n",
              "      <td>1441.012419</td>\n",
              "      <td>18.459509</td>\n",
              "      <td>19.275241</td>\n",
              "      <td>12.410325</td>\n",
              "    </tr>\n",
              "    <tr>\n",
              "      <th>25%</th>\n",
              "      <td>111.0</td>\n",
              "      <td>222.0</td>\n",
              "      <td>115.750000</td>\n",
              "      <td>4442.903914</td>\n",
              "      <td>820.314400</td>\n",
              "      <td>841.763738</td>\n",
              "      <td>18.225625</td>\n",
              "    </tr>\n",
              "    <tr>\n",
              "      <th>50%</th>\n",
              "      <td>111.0</td>\n",
              "      <td>222.0</td>\n",
              "      <td>131.500000</td>\n",
              "      <td>6010.218745</td>\n",
              "      <td>1255.597743</td>\n",
              "      <td>1305.716419</td>\n",
              "      <td>27.044293</td>\n",
              "    </tr>\n",
              "    <tr>\n",
              "      <th>75%</th>\n",
              "      <td>111.0</td>\n",
              "      <td>222.0</td>\n",
              "      <td>139.000000</td>\n",
              "      <td>8887.095370</td>\n",
              "      <td>1711.314045</td>\n",
              "      <td>1763.681083</td>\n",
              "      <td>44.356374</td>\n",
              "    </tr>\n",
              "    <tr>\n",
              "      <th>max</th>\n",
              "      <td>111.0</td>\n",
              "      <td>222.0</td>\n",
              "      <td>149.000000</td>\n",
              "      <td>14281.325362</td>\n",
              "      <td>2806.338955</td>\n",
              "      <td>2918.681683</td>\n",
              "      <td>147.787560</td>\n",
              "    </tr>\n",
              "  </tbody>\n",
              "</table>\n",
              "</div>"
            ],
            "text/plain": [
              "       importer_id  exporter_id  ...  actual_weight  days_in_transit\n",
              "count        120.0        120.0  ...     120.000000       120.000000\n",
              "mean         111.0        222.0  ...    1306.429806        35.424705\n",
              "std            0.0          0.0  ...     656.911704        26.571591\n",
              "min          111.0        222.0  ...      19.275241        12.410325\n",
              "25%          111.0        222.0  ...     841.763738        18.225625\n",
              "50%          111.0        222.0  ...    1305.716419        27.044293\n",
              "75%          111.0        222.0  ...    1763.681083        44.356374\n",
              "max          111.0        222.0  ...    2918.681683       147.787560\n",
              "\n",
              "[8 rows x 7 columns]"
            ]
          },
          "metadata": {
            "tags": []
          },
          "execution_count": 8
        }
      ]
    },
    {
      "cell_type": "markdown",
      "metadata": {
        "id": "rMDw3h6RwmEh",
        "colab_type": "text"
      },
      "source": [
        "**Qual é o Valor Médio Para os Pesos Declarados?**"
      ]
    },
    {
      "cell_type": "code",
      "metadata": {
        "id": "dcWZdA5EwlCu",
        "colab_type": "code",
        "colab": {
          "base_uri": "https://localhost:8080/",
          "height": 283
        },
        "outputId": "0860f358-8b68-425f-aa33-143a43cd7652"
      },
      "source": [
        "#identificando possíveis outliers\n",
        "dataframe_envio_portos[['declared_quantity','days_in_transit']].boxplot()"
      ],
      "execution_count": 10,
      "outputs": [
        {
          "output_type": "execute_result",
          "data": {
            "text/plain": [
              "<matplotlib.axes._subplots.AxesSubplot at 0x7f76414ccb00>"
            ]
          },
          "metadata": {
            "tags": []
          },
          "execution_count": 10
        },
        {
          "output_type": "display_data",
          "data": {
            "image/png": "[encoded data removed]",
            "text/plain": [
              "<Figure size 432x288 with 1 Axes>"
            ]
          },
          "metadata": {
            "tags": [],
            "needs_background": "light"
          }
        }
      ]
    },
    {
      "cell_type": "code",
      "metadata": {
        "id": "LsSkLBtcwZ5Z",
        "colab_type": "code",
        "colab": {
          "base_uri": "https://localhost:8080/",
          "height": 255
        },
        "outputId": "d514a16f-6eca-4c57-ed02-26804b5bee77"
      },
      "source": [
        "#Z-score\n",
        "from scipy import stats\n",
        "z = np.abs(stats.zscore(dataframe_envio_portos['days_in_transit'].values))\n",
        "threshold = 3\n",
        "result=np.where(z > threshold)\n",
        "\n",
        "df_tempo_viagem_outlier=dataframe_envio_portos.iloc[result[0]]\n",
        "df_tempo_viagem_outlier"
      ],
      "execution_count": 11,
      "outputs": [
        {
          "output_type": "execute_result",
          "data": {
            "text/html": [
              "<div>\n",
              "<style scoped>\n",
              "    .dataframe tbody tr th:only-of-type {\n",
              "        vertical-align: middle;\n",
              "    }\n",
              "\n",
              "    .dataframe tbody tr th {\n",
              "        vertical-align: top;\n",
              "    }\n",
              "\n",
              "    .dataframe thead th {\n",
              "        text-align: right;\n",
              "    }\n",
              "</style>\n",
              "<table border=\"1\" class=\"dataframe\">\n",
              "  <thead>\n",
              "    <tr style=\"text-align: right;\">\n",
              "      <th></th>\n",
              "      <th>valid_import</th>\n",
              "      <th>item</th>\n",
              "      <th>importer_id</th>\n",
              "      <th>exporter_id</th>\n",
              "      <th>country_of_origin</th>\n",
              "      <th>declared_quantity</th>\n",
              "      <th>declared_cost</th>\n",
              "      <th>mode_of_transport</th>\n",
              "      <th>route</th>\n",
              "      <th>date_of_departure</th>\n",
              "      <th>date_of_arrival</th>\n",
              "      <th>declared_weight</th>\n",
              "      <th>actual_weight</th>\n",
              "      <th>days_in_transit</th>\n",
              "    </tr>\n",
              "  </thead>\n",
              "  <tbody>\n",
              "    <tr>\n",
              "      <th>61</th>\n",
              "      <td>False</td>\n",
              "      <td>cigar</td>\n",
              "      <td>111</td>\n",
              "      <td>222</td>\n",
              "      <td>India</td>\n",
              "      <td>131</td>\n",
              "      <td>1594.074225</td>\n",
              "      <td>sea</td>\n",
              "      <td>america</td>\n",
              "      <td>05/08/2019</td>\n",
              "      <td>09/01/2019</td>\n",
              "      <td>1489.554025</td>\n",
              "      <td>1551.161701</td>\n",
              "      <td>116.140911</td>\n",
              "    </tr>\n",
              "    <tr>\n",
              "      <th>73</th>\n",
              "      <td>False</td>\n",
              "      <td>cigar</td>\n",
              "      <td>111</td>\n",
              "      <td>222</td>\n",
              "      <td>France</td>\n",
              "      <td>110</td>\n",
              "      <td>8953.524711</td>\n",
              "      <td>sea</td>\n",
              "      <td>america</td>\n",
              "      <td>05/16/2019</td>\n",
              "      <td>09/13/2019</td>\n",
              "      <td>193.130429</td>\n",
              "      <td>200.966710</td>\n",
              "      <td>120.406246</td>\n",
              "    </tr>\n",
              "    <tr>\n",
              "      <th>81</th>\n",
              "      <td>False</td>\n",
              "      <td>cigar</td>\n",
              "      <td>111</td>\n",
              "      <td>222</td>\n",
              "      <td>India</td>\n",
              "      <td>134</td>\n",
              "      <td>3326.973672</td>\n",
              "      <td>sea</td>\n",
              "      <td>america</td>\n",
              "      <td>05/12/2019</td>\n",
              "      <td>10/07/2019</td>\n",
              "      <td>280.984620</td>\n",
              "      <td>289.694339</td>\n",
              "      <td>147.787560</td>\n",
              "    </tr>\n",
              "    <tr>\n",
              "      <th>85</th>\n",
              "      <td>False</td>\n",
              "      <td>cigar</td>\n",
              "      <td>111</td>\n",
              "      <td>222</td>\n",
              "      <td>China</td>\n",
              "      <td>113</td>\n",
              "      <td>5745.640896</td>\n",
              "      <td>sea</td>\n",
              "      <td>america</td>\n",
              "      <td>04/22/2019</td>\n",
              "      <td>08/28/2019</td>\n",
              "      <td>627.941986</td>\n",
              "      <td>655.845304</td>\n",
              "      <td>128.416712</td>\n",
              "    </tr>\n",
              "    <tr>\n",
              "      <th>97</th>\n",
              "      <td>False</td>\n",
              "      <td>cigar</td>\n",
              "      <td>111</td>\n",
              "      <td>222</td>\n",
              "      <td>Italy</td>\n",
              "      <td>144</td>\n",
              "      <td>10849.145863</td>\n",
              "      <td>sea</td>\n",
              "      <td>america</td>\n",
              "      <td>05/09/2019</td>\n",
              "      <td>09/09/2019</td>\n",
              "      <td>291.849891</td>\n",
              "      <td>303.328673</td>\n",
              "      <td>123.277846</td>\n",
              "    </tr>\n",
              "    <tr>\n",
              "      <th>105</th>\n",
              "      <td>False</td>\n",
              "      <td>cigar</td>\n",
              "      <td>111</td>\n",
              "      <td>222</td>\n",
              "      <td>China</td>\n",
              "      <td>139</td>\n",
              "      <td>4174.018265</td>\n",
              "      <td>sea</td>\n",
              "      <td>america</td>\n",
              "      <td>05/12/2019</td>\n",
              "      <td>09/25/2019</td>\n",
              "      <td>231.583758</td>\n",
              "      <td>243.047276</td>\n",
              "      <td>135.627561</td>\n",
              "    </tr>\n",
              "  </tbody>\n",
              "</table>\n",
              "</div>"
            ],
            "text/plain": [
              "     valid_import   item  ...  actual_weight  days_in_transit\n",
              "61          False  cigar  ...    1551.161701       116.140911\n",
              "73          False  cigar  ...     200.966710       120.406246\n",
              "81          False  cigar  ...     289.694339       147.787560\n",
              "85          False  cigar  ...     655.845304       128.416712\n",
              "97          False  cigar  ...     303.328673       123.277846\n",
              "105         False  cigar  ...     243.047276       135.627561\n",
              "\n",
              "[6 rows x 14 columns]"
            ]
          },
          "metadata": {
            "tags": []
          },
          "execution_count": 11
        }
      ]
    },
    {
      "cell_type": "markdown",
      "metadata": {
        "id": "ZqxbwHTtxM6A",
        "colab_type": "text"
      },
      "source": [
        "**Existem Possíveis Outliers?**"
      ]
    },
    {
      "cell_type": "code",
      "metadata": {
        "id": "IECULZZuxMC_",
        "colab_type": "code",
        "colab": {}
      },
      "source": [
        "#realizando a análise de regressão\n",
        "x=dataframe_envio_portos['declared_weight'].values  #variável independente \n",
        "Y=dataframe_envio_portos['actual_weight'].values #variável dependente "
      ],
      "execution_count": 12,
      "outputs": []
    },
    {
      "cell_type": "code",
      "metadata": {
        "id": "U0212bCiDfUE",
        "colab_type": "code",
        "colab": {
          "base_uri": "https://localhost:8080/",
          "height": 34
        },
        "outputId": "3bddbf9a-b1cb-4979-9066-29dcd943b10d"
      },
      "source": [
        "type(x)"
      ],
      "execution_count": 13,
      "outputs": [
        {
          "output_type": "execute_result",
          "data": {
            "text/plain": [
              "numpy.ndarray"
            ]
          },
          "metadata": {
            "tags": []
          },
          "execution_count": 13
        }
      ]
    },
    {
      "cell_type": "code",
      "metadata": {
        "id": "FJ1CAlmODa3a",
        "colab_type": "code",
        "colab": {
          "base_uri": "https://localhost:8080/",
          "height": 34
        },
        "outputId": "0eb2de2c-1e70-4728-fe42-29c87164b6d6"
      },
      "source": [
        "type(dataframe_envio_portos['declared_weight'])"
      ],
      "execution_count": 14,
      "outputs": [
        {
          "output_type": "execute_result",
          "data": {
            "text/plain": [
              "pandas.core.series.Series"
            ]
          },
          "metadata": {
            "tags": []
          },
          "execution_count": 14
        }
      ]
    },
    {
      "cell_type": "code",
      "metadata": {
        "id": "_p_75s6KMt6m",
        "colab_type": "code",
        "colab": {
          "base_uri": "https://localhost:8080/",
          "height": 527
        },
        "outputId": "0b27934e-6fea-4162-91fd-7a6435705c6b"
      },
      "source": [
        "x"
      ],
      "execution_count": 15,
      "outputs": [
        {
          "output_type": "execute_result",
          "data": {
            "text/plain": [
              "array([1608.60513487,  831.71930072, 1527.7041649 , 1138.68056344,\n",
              "        761.74458131, 1332.19849207, 1763.48379141, 1320.16326285,\n",
              "       1163.29821894, 1681.55226526, 1961.96978061, 2003.03977863,\n",
              "       1063.98203728, 1643.4072617 , 1402.11803149, 1652.51656272,\n",
              "       1996.8276303 , 1950.24506573, 1233.26855747, 1542.01534458,\n",
              "       1727.35497244,  881.29823388, 1567.00322091, 1524.4609902 ,\n",
              "       1408.6811498 , 2004.60019372, 1024.41295338, 1423.35131921,\n",
              "       1203.27482007,  695.6810859 ,  864.1368066 ,  680.76378444,\n",
              "       1178.00841595, 1438.25227903, 1248.34954683,  759.63236104,\n",
              "       1378.21735423, 1842.57680526, 1178.30524764,  738.66972622,\n",
              "       1179.73174952, 1556.23651865,  710.40138876,  729.49166526,\n",
              "       1507.2787592 ,  846.96218049,  798.18807199, 1487.10504563,\n",
              "       1725.12932003,  992.15813026, 1236.73325494,  995.24650303,\n",
              "       1262.84593854,  813.84636464,  526.53093834,  941.87737321,\n",
              "       2018.04815808, 1661.12259131, 1155.22691941,  983.30106157,\n",
              "       1729.80204996, 1489.55402456, 1024.48761324, 1494.46417547,\n",
              "       2146.86796305, 2442.55281934,  547.42149624, 1837.90187613,\n",
              "       2450.63878324, 2406.82718086, 2168.09878358, 1334.66749242,\n",
              "        640.69121267,  193.13042903,  649.71081162, 2314.64352604,\n",
              "        262.62812843,  154.3786306 , 1139.89591315, 1417.61719055,\n",
              "       1891.40673853,  280.98461957, 2071.94623311, 1281.13325703,\n",
              "        896.40776654,  627.94198555, 1474.38373259,   18.4595093 ,\n",
              "       2586.14607283, 2004.53242669, 1721.11802578, 2336.58376155,\n",
              "        131.51476134, 1932.53664604,  154.23207224,  944.700404  ,\n",
              "       2612.56372055,  291.84989116, 1097.04105535, 1418.30165371,\n",
              "       1708.04605141,  822.4704124 , 1054.48618326,  398.31881283,\n",
              "       1930.88198251,  231.58375796, 1100.96351546, 1415.32520468,\n",
              "        994.43087284,   96.28488837,  508.90641592, 1446.18368133,\n",
              "       2806.33895528,  632.7669749 , 2179.01117827, 1757.32200814,\n",
              "        475.65490304,  130.26296381,   61.57245857,  920.74339713])"
            ]
          },
          "metadata": {
            "tags": []
          },
          "execution_count": 15
        }
      ]
    },
    {
      "cell_type": "code",
      "metadata": {
        "id": "pSoJQBOMy7F8",
        "colab_type": "code",
        "colab": {}
      },
      "source": [
        "#importa o modelo de regressão linear univariada\n",
        "from sklearn.linear_model import LinearRegression"
      ],
      "execution_count": 16,
      "outputs": []
    },
    {
      "cell_type": "code",
      "metadata": {
        "id": "AWHHadB4x9_k",
        "colab_type": "code",
        "colab": {}
      },
      "source": [
        "#Realiza a construção do modelo de regressão\n",
        "reg= LinearRegression()\n",
        "x_Reshaped=x.reshape(-1, 1) #coloca os dados no formato 2D\n",
        "regressao= reg.fit (x_Reshaped,Y) # encontra os coeficientes (realiza a regressão)"
      ],
      "execution_count": 17,
      "outputs": []
    },
    {
      "cell_type": "code",
      "metadata": {
        "id": "nvBdinlry6VR",
        "colab_type": "code",
        "colab": {}
      },
      "source": [
        "#realiza a previsão\n",
        "previsao=reg.predict(x_Reshaped)"
      ],
      "execution_count": 18,
      "outputs": []
    },
    {
      "cell_type": "code",
      "metadata": {
        "id": "kYdLgLmOzhBr",
        "colab_type": "code",
        "colab": {}
      },
      "source": [
        "#análise do modelo\n",
        "from sklearn.metrics import r2_score #método para o cálculo do R2 (coeficiente de determinação)"
      ],
      "execution_count": 19,
      "outputs": []
    },
    {
      "cell_type": "code",
      "metadata": {
        "id": "2JBYpbs5za47",
        "colab_type": "code",
        "colab": {
          "base_uri": "https://localhost:8080/",
          "height": 51
        },
        "outputId": "4132c8cc-e38b-4e69-c87a-b40e45c28a86"
      },
      "source": [
        "#parâmetros encontrados\n",
        "print('Y = {}X {}'.format(reg.coef_,reg.intercept_))\n",
        "\n",
        "R_2 = r2_score(Y, previsao)  #realiza o cálculo do R2\n",
        "\n",
        "print(\"Coeficiente de Determinação (R2):\", R_2)\n"
      ],
      "execution_count": 20,
      "outputs": [
        {
          "output_type": "stream",
          "text": [
            "Y = [1.03718115]X -5.296233030439225\n",
            "Coeficiente de Determinação (R2): 0.9993288165644932\n"
          ],
          "name": "stdout"
        }
      ]
    },
    {
      "cell_type": "markdown",
      "metadata": {
        "id": "BlguRh0t0oU6",
        "colab_type": "text"
      },
      "source": [
        "**Pelo Coefiente de Determinação, o Que É Possível Afirmar Sobre a Relação Entre as Variáveis Peso Real x Peso Declarado?**"
      ]
    },
    {
      "cell_type": "code",
      "metadata": {
        "id": "Dl1idrd7zuJM",
        "colab_type": "code",
        "colab": {
          "base_uri": "https://localhost:8080/",
          "height": 684
        },
        "outputId": "89b12769-20ce-4c98-c2b4-ecff005cb659"
      },
      "source": [
        "#realiza o plot dos dados\n",
        "plt.figure(figsize=(8, 8), dpi=100)\n",
        "plt.scatter(x, Y,  color='gray') #realiza o plot do gráfico de dispersão\n",
        "plt.plot(x, previsao, color='red', linewidth=2) # realiza o plto da \"linha\"\n",
        "plt.xlabel(\"Peso Declarado\")\n",
        "plt.ylabel(\"Peso Real\")\n",
        "plt.show()"
      ],
      "execution_count": 21,
      "outputs": [
        {
          "output_type": "display_data",
          "data": {
            "image/png": "[encoded data removed]",
            "text/plain": [
              "<Figure size 800x800 with 1 Axes>"
            ]
          },
          "metadata": {
            "tags": [],
            "needs_background": "light"
          }
        }
      ]
    },
    {
      "cell_type": "markdown",
      "metadata": {
        "id": "Gb_TJJ1MES-q",
        "colab_type": "text"
      },
      "source": [
        "**Realizando uma análise sobre o produto de origem Chinesa**"
      ]
    },
    {
      "cell_type": "code",
      "metadata": {
        "id": "fxPkBnLqyNgg",
        "colab_type": "code",
        "colab": {
          "base_uri": "https://localhost:8080/",
          "height": 34
        },
        "outputId": "d61f5fca-48c6-463a-a1d0-982e286c0bd7"
      },
      "source": [
        "dataframe_envio_portos['item'].nunique()  #conta a quantidade de valores em cada série"
      ],
      "execution_count": 22,
      "outputs": [
        {
          "output_type": "execute_result",
          "data": {
            "text/plain": [
              "1"
            ]
          },
          "metadata": {
            "tags": []
          },
          "execution_count": 22
        }
      ]
    },
    {
      "cell_type": "code",
      "metadata": {
        "id": "s0_pBsRcya-f",
        "colab_type": "code",
        "colab": {
          "base_uri": "https://localhost:8080/",
          "height": 34
        },
        "outputId": "9ced21c5-219a-4e7e-f75b-fd62bee7e0cd"
      },
      "source": [
        "dataframe_envio_portos['country_of_origin'].unique() #mostra os valores diferentes existentes"
      ],
      "execution_count": 23,
      "outputs": [
        {
          "output_type": "execute_result",
          "data": {
            "text/plain": [
              "array(['India', 'China', 'USA', 'France', 'Italy'], dtype=object)"
            ]
          },
          "metadata": {
            "tags": []
          },
          "execution_count": 23
        }
      ]
    },
    {
      "cell_type": "code",
      "metadata": {
        "id": "5U8ohOO6EhyD",
        "colab_type": "code",
        "colab": {
          "base_uri": "https://localhost:8080/",
          "height": 204
        },
        "outputId": "9e38dd50-e6f6-4104-9c43-0532ef38536f"
      },
      "source": [
        "new_df=dataframe_envio_portos[dataframe_envio_portos['country_of_origin']=='China']\n",
        "new_df=new_df[['declared_quantity','declared_cost','declared_weight','actual_weight']]\n",
        "new_df.head()"
      ],
      "execution_count": 24,
      "outputs": [
        {
          "output_type": "execute_result",
          "data": {
            "text/html": [
              "<div>\n",
              "<style scoped>\n",
              "    .dataframe tbody tr th:only-of-type {\n",
              "        vertical-align: middle;\n",
              "    }\n",
              "\n",
              "    .dataframe tbody tr th {\n",
              "        vertical-align: top;\n",
              "    }\n",
              "\n",
              "    .dataframe thead th {\n",
              "        text-align: right;\n",
              "    }\n",
              "</style>\n",
              "<table border=\"1\" class=\"dataframe\">\n",
              "  <thead>\n",
              "    <tr style=\"text-align: right;\">\n",
              "      <th></th>\n",
              "      <th>declared_quantity</th>\n",
              "      <th>declared_cost</th>\n",
              "      <th>declared_weight</th>\n",
              "      <th>actual_weight</th>\n",
              "    </tr>\n",
              "  </thead>\n",
              "  <tbody>\n",
              "    <tr>\n",
              "      <th>4</th>\n",
              "      <td>141</td>\n",
              "      <td>4396.397887</td>\n",
              "      <td>761.744581</td>\n",
              "      <td>781.735080</td>\n",
              "    </tr>\n",
              "    <tr>\n",
              "      <th>5</th>\n",
              "      <td>122</td>\n",
              "      <td>6092.118365</td>\n",
              "      <td>1332.198492</td>\n",
              "      <td>1345.364184</td>\n",
              "    </tr>\n",
              "    <tr>\n",
              "      <th>6</th>\n",
              "      <td>136</td>\n",
              "      <td>5199.846978</td>\n",
              "      <td>1763.483791</td>\n",
              "      <td>1840.537634</td>\n",
              "    </tr>\n",
              "    <tr>\n",
              "      <th>7</th>\n",
              "      <td>141</td>\n",
              "      <td>6680.072683</td>\n",
              "      <td>1320.163263</td>\n",
              "      <td>1370.156345</td>\n",
              "    </tr>\n",
              "    <tr>\n",
              "      <th>24</th>\n",
              "      <td>140</td>\n",
              "      <td>6670.143239</td>\n",
              "      <td>1408.681150</td>\n",
              "      <td>1449.195819</td>\n",
              "    </tr>\n",
              "  </tbody>\n",
              "</table>\n",
              "</div>"
            ],
            "text/plain": [
              "    declared_quantity  declared_cost  declared_weight  actual_weight\n",
              "4                 141    4396.397887       761.744581     781.735080\n",
              "5                 122    6092.118365      1332.198492    1345.364184\n",
              "6                 136    5199.846978      1763.483791    1840.537634\n",
              "7                 141    6680.072683      1320.163263    1370.156345\n",
              "24                140    6670.143239      1408.681150    1449.195819"
            ]
          },
          "metadata": {
            "tags": []
          },
          "execution_count": 24
        }
      ]
    },
    {
      "cell_type": "code",
      "metadata": {
        "id": "7vOHwgVl4ejD",
        "colab_type": "code",
        "colab": {}
      },
      "source": [
        "#aplicando a regressão linear paara as variáveis \n",
        "x2=new_df['declared_weight'].values  #variável independente \n",
        "Y2=new_df['actual_weight'].values #variável dependente "
      ],
      "execution_count": 25,
      "outputs": []
    },
    {
      "cell_type": "code",
      "metadata": {
        "id": "1R1u9byV5pXr",
        "colab_type": "code",
        "colab": {}
      },
      "source": [
        "#Realiza a construção do modelo de regressão\n",
        "reg2= LinearRegression()\n",
        "x_Reshaped2=x2.reshape(-1, 1) #coloca os dados no formato 2D\n",
        "regressao2= reg2.fit (x_Reshaped2,Y2) # encontra os coeficientes (realiza a regressão)"
      ],
      "execution_count": 26,
      "outputs": []
    },
    {
      "cell_type": "code",
      "metadata": {
        "id": "OwhG2xPm52fW",
        "colab_type": "code",
        "colab": {}
      },
      "source": [
        "#realiza a previsão\n",
        "previsao2=reg2.predict(x_Reshaped2)"
      ],
      "execution_count": 27,
      "outputs": []
    },
    {
      "cell_type": "code",
      "metadata": {
        "id": "_oGaO3ui6A-V",
        "colab_type": "code",
        "colab": {
          "base_uri": "https://localhost:8080/",
          "height": 34
        },
        "outputId": "f390b402-a5b1-4848-f0c6-a2e78fdecd42"
      },
      "source": [
        "R_2 = r2_score(Y2, previsao2)  #realiza o cálculo do R2\n",
        "print(R_2)"
      ],
      "execution_count": 28,
      "outputs": [
        {
          "output_type": "stream",
          "text": [
            "0.9991166595706871\n"
          ],
          "name": "stdout"
        }
      ]
    },
    {
      "cell_type": "code",
      "metadata": {
        "id": "F0QekAhu6Tc-",
        "colab_type": "code",
        "colab": {
          "base_uri": "https://localhost:8080/",
          "height": 631
        },
        "outputId": "c8f08993-bf33-4b58-d29e-89e852a3c60c"
      },
      "source": [
        "#realiza o plot dos dados\n",
        "plt.figure(figsize=(7, 7), dpi=100)\n",
        "plt.scatter(x2, Y2,  color='gray') #realiza o plot do gráfico de dispersão\n",
        "plt.plot(x2, previsao2, color='red', linewidth=2) # realiza o plto da \"linha\"\n",
        "plt.xlabel(\"Peso Declarado\")\n",
        "plt.ylabel(\"Peso Real\")\n",
        "plt.title(\"Produtos Chineses\")\n",
        "plt.show()"
      ],
      "execution_count": 29,
      "outputs": [
        {
          "output_type": "display_data",
          "data": {
            "image/png": "[encoded data removed]",
            "text/plain": [
              "<Figure size 700x700 with 1 Axes>"
            ]
          },
          "metadata": {
            "tags": [],
            "needs_background": "light"
          }
        }
      ]
    },
    {
      "cell_type": "code",
      "metadata": {
        "id": "bTVulb0l6m6o",
        "colab_type": "code",
        "colab": {}
      },
      "source": [
        "#analisando a correlação entre os dados"
      ],
      "execution_count": 30,
      "outputs": []
    },
    {
      "cell_type": "code",
      "metadata": {
        "id": "2o2fDemg6lt5",
        "colab_type": "code",
        "colab": {
          "base_uri": "https://localhost:8080/",
          "height": 488
        },
        "outputId": "66060f5e-5fa2-48b9-b673-722b7d2add64"
      },
      "source": [
        "#realizando o plot da matriz de correlação\n",
        "plt.figure(figsize=(8, 8))\n",
        "matriz_de_correlação = new_df.corr()  #construindo a matriz de correlação\n",
        "sn.heatmap(matriz_de_correlação, annot=True,vmin=-1, vmax=1,center= 0)  #plotando a matriz de correlação com o seaborn\n",
        "plt.show()"
      ],
      "execution_count": 31,
      "outputs": [
        {
          "output_type": "display_data",
          "data": {
            "image/png": "[encoded data removed]",
            "text/plain": [
              "<Figure size 576x576 with 2 Axes>"
            ]
          },
          "metadata": {
            "tags": [],
            "needs_background": "light"
          }
        }
      ]
    },
    {
      "cell_type": "markdown",
      "metadata": {
        "id": "HY1T4CrSzpOi",
        "colab_type": "text"
      },
      "source": [
        "**Regressão Com Árvore de Decisão**"
      ]
    },
    {
      "cell_type": "code",
      "metadata": {
        "id": "L2vbHz0RFk7S",
        "colab_type": "code",
        "colab": {}
      },
      "source": [
        "from sklearn.preprocessing import MinMaxScaler\n",
        "scaler = MinMaxScaler()\n",
        "scaled_df = scaler.fit_transform(new_df)"
      ],
      "execution_count": 32,
      "outputs": []
    },
    {
      "cell_type": "code",
      "metadata": {
        "id": "xp9xmSZZ9X_r",
        "colab_type": "code",
        "colab": {}
      },
      "source": [
        "from sklearn.tree import DecisionTreeRegressor  #importando a árvore de decisão como regressor"
      ],
      "execution_count": 33,
      "outputs": []
    },
    {
      "cell_type": "code",
      "metadata": {
        "id": "odc5_dZW_gsq",
        "colab_type": "code",
        "colab": {}
      },
      "source": [
        "entrada_arvore=scaled_df[:,2].reshape(-1,1) #entrada para a regressão via árvore\n",
        "saida_arvore=scaled_df[:,3].reshape(-1,1) #saída para a regressão via árvore"
      ],
      "execution_count": 34,
      "outputs": []
    },
    {
      "cell_type": "code",
      "metadata": {
        "id": "aKsXMMJxAqzR",
        "colab_type": "code",
        "colab": {}
      },
      "source": [
        "x_train, x_test, y_train, y_test = train_test_split(entrada_arvore, saida_arvore, test_size=0.30, random_state=42) #divisão entre treinamento e teste"
      ],
      "execution_count": 35,
      "outputs": []
    },
    {
      "cell_type": "code",
      "metadata": {
        "id": "facXLNif_EB7",
        "colab_type": "code",
        "colab": {
          "base_uri": "https://localhost:8080/",
          "height": 119
        },
        "outputId": "aef0ac81-c59f-467e-d37a-67cdf892a7a3"
      },
      "source": [
        "arvore_regressora=DecisionTreeRegressor() #define o objeto para a árvore de decisão como regressora\n",
        "arvore_regressora.fit(x_train, y_train) #aplica a regressão"
      ],
      "execution_count": 36,
      "outputs": [
        {
          "output_type": "execute_result",
          "data": {
            "text/plain": [
              "DecisionTreeRegressor(ccp_alpha=0.0, criterion='mse', max_depth=None,\n",
              "                      max_features=None, max_leaf_nodes=None,\n",
              "                      min_impurity_decrease=0.0, min_impurity_split=None,\n",
              "                      min_samples_leaf=1, min_samples_split=2,\n",
              "                      min_weight_fraction_leaf=0.0, presort='deprecated',\n",
              "                      random_state=None, splitter='best')"
            ]
          },
          "metadata": {
            "tags": []
          },
          "execution_count": 36
        }
      ]
    },
    {
      "cell_type": "code",
      "metadata": {
        "id": "HkBrBc7E_7Pe",
        "colab_type": "code",
        "colab": {}
      },
      "source": [
        "#realiza a previsão\n",
        "previsao_arvore=arvore_regressora.predict(x_test)"
      ],
      "execution_count": 37,
      "outputs": []
    },
    {
      "cell_type": "code",
      "metadata": {
        "id": "zGNsUTNSADtt",
        "colab_type": "code",
        "colab": {
          "base_uri": "https://localhost:8080/",
          "height": 51
        },
        "outputId": "f6ea1f32-72c5-4f10-a55a-92f1b09b143c"
      },
      "source": [
        "from sklearn import metrics\n",
        "print('Erro absoluto:', metrics.mean_absolute_error(y_test, previsao_arvore))\n",
        "print('Mean Squared Error:', metrics.mean_squared_error(y_test, previsao_arvore))"
      ],
      "execution_count": 38,
      "outputs": [
        {
          "output_type": "stream",
          "text": [
            "Erro absoluto: 0.03520773942059599\n",
            "Mean Squared Error: 0.0024370030658980744\n"
          ],
          "name": "stdout"
        }
      ]
    },
    {
      "cell_type": "code",
      "metadata": {
        "id": "jMNXabxbCqhD",
        "colab_type": "code",
        "colab": {
          "base_uri": "https://localhost:8080/",
          "height": 588
        },
        "outputId": "7a2300af-412b-4353-c8cc-a824b9544757"
      },
      "source": [
        "plt.figure(figsize=(15, 10))\n",
        "X_grid = np.arange(min(entrada_arvore), max(entrada_arvore), 0.001)\n",
        "X_grid = X_grid.reshape((len(X_grid), 1))\n",
        "plt.scatter(entrada_arvore,saida_arvore, color = 'red')\n",
        "plt.plot(X_grid, arvore_regressora.predict(X_grid), color = 'blue')\n",
        "plt.title('Exemplo de Regressão com Árvore de Decisão')\n",
        "plt.xlabel('Peso Declarado')\n",
        "plt.ylabel('Peso Real')\n",
        "plt.show()"
      ],
      "execution_count": 39,
      "outputs": [
        {
          "output_type": "display_data",
          "data": {
            "image/png": "[encoded data removed]",
            "text/plain": [
              "<Figure size 1080x720 with 1 Axes>"
            ]
          },
          "metadata": {
            "tags": [],
            "needs_background": "light"
          }
        }
      ]
    }
  ]
}